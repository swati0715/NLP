{
  "nbformat": 4,
  "nbformat_minor": 0,
  "metadata": {
    "colab": {
      "provenance": [],
      "include_colab_link": true
    },
    "kernelspec": {
      "name": "python3",
      "display_name": "Python 3"
    },
    "language_info": {
      "name": "python"
    }
  },
  "cells": [
    {
      "cell_type": "markdown",
      "metadata": {
        "id": "view-in-github",
        "colab_type": "text"
      },
      "source": [
        "<a href=\"https://colab.research.google.com/github/swati0715/NLP/blob/main/NLP.ipynb\" target=\"_parent\"><img src=\"https://colab.research.google.com/assets/colab-badge.svg\" alt=\"Open In Colab\"/></a>"
      ]
    },
    {
      "cell_type": "code",
      "source": [
        "import re\n",
        "text = \"I am a data scientist\"\n",
        "pattern = \"am\"\n",
        "match = re.search(pattern, text)\n",
        "if match:\n",
        "    print(f\"Pattern '{pattern}' found at index {match.start()}\")\n",
        "else:\n",
        "    print(f\"Pattern '{pattern}' not found\")"
      ],
      "metadata": {
        "id": "Vzi5hYF4_n0Y",
        "colab": {
          "base_uri": "https://localhost:8080/"
        },
        "outputId": "731f2339-99da-429e-9a57-b1f4376ff438"
      },
      "execution_count": null,
      "outputs": [
        {
          "output_type": "stream",
          "name": "stdout",
          "text": [
            "Pattern 'am' found at index 2\n"
          ]
        }
      ]
    },
    {
      "cell_type": "code",
      "source": [
        "text = \"I am a data analyst\"\n",
        "pattern = \"analyst\"\n",
        "replacement =\"scientist\"\n",
        "import re\n",
        "\n",
        "text = \"I am a data analyst\"\n",
        "pattern = \"analyst\"\n",
        "replacement =\"scientist\"\n",
        "\n",
        "new_text = re.sub(pattern, replacement, text)\n",
        "print(\"original_text:\",text)\n",
        "print(\"New_text:\",new_text)"
      ],
      "metadata": {
        "colab": {
          "base_uri": "https://localhost:8080/"
        },
        "id": "c9uqCUthKsT0",
        "outputId": "00c50c42-8a1b-4eb5-c7f8-fc3d429bce94"
      },
      "execution_count": null,
      "outputs": [
        {
          "output_type": "stream",
          "name": "stdout",
          "text": [
            "original_text: I am a data analyst\n",
            "New_text: I am a data scientist\n"
          ]
        }
      ]
    },
    {
      "cell_type": "code",
      "source": [
        "test1 = \"Hey,This is best : for !us;\"\n",
        "print(\"The original string is:\"+test1)\n",
        "res = re.sub(r'[^\\w\\s]', '', test1)\n",
        "\n",
        "print(\"The string after punctuation filter:\"+res)"
      ],
      "metadata": {
        "colab": {
          "base_uri": "https://localhost:8080/"
        },
        "id": "cJ0Zevi1LPXi",
        "outputId": "d4d93d77-06a0-4ae8-c78a-375fd9f67307"
      },
      "execution_count": null,
      "outputs": [
        {
          "output_type": "stream",
          "name": "stdout",
          "text": [
            "The original string is:Hey,This is best : for !us;\n",
            "The string after punctuation filter:HeyThis is best  for us\n"
          ]
        }
      ]
    },
    {
      "cell_type": "code",
      "source": [
        "import nltk\n",
        "nltk.download('punkt_tab')\n",
        "text=\"This is an example sentence.Another sentence is here.\"\n",
        "tokens=nltk.word_tokenize(text)\n",
        "print(tokens)"
      ],
      "metadata": {
        "colab": {
          "base_uri": "https://localhost:8080/"
        },
        "id": "WrdDH3FwNK1-",
        "outputId": "d2ee1111-3d1b-4034-a68a-b7c454e2f880"
      },
      "execution_count": null,
      "outputs": [
        {
          "output_type": "stream",
          "name": "stderr",
          "text": [
            "[nltk_data] Downloading package punkt_tab to /root/nltk_data...\n",
            "[nltk_data]   Unzipping tokenizers/punkt_tab.zip.\n"
          ]
        },
        {
          "output_type": "stream",
          "name": "stdout",
          "text": [
            "['This', 'is', 'an', 'example', 'sentence.Another', 'sentence', 'is', 'here', '.']\n"
          ]
        }
      ]
    },
    {
      "cell_type": "code",
      "source": [
        "from nltk.util import ngrams\n",
        "text = \"This quick brown fox jumps over the lazy dog\"\n",
        "tokens = nltk.word_tokenize(text)\n",
        "bigrams = list(ngrams(tokens, 2))\n",
        "trigrams = list(ngrams(tokens, 3))\n",
        "print(\"Original text:\",text)\n",
        "print(\"Tokens:\",tokens)\n",
        "print(\"Bigrams:\",bigrams)\n",
        "print(\"Trigrams:\",trigrams)"
      ],
      "metadata": {
        "colab": {
          "base_uri": "https://localhost:8080/"
        },
        "id": "GNs6uVpHOP0z",
        "outputId": "93c06dac-2f51-4088-d8e4-03a7a7056995"
      },
      "execution_count": null,
      "outputs": [
        {
          "output_type": "stream",
          "name": "stdout",
          "text": [
            "Original text: This quick brown fox jumps over the lazy dog\n",
            "Tokens: ['This', 'quick', 'brown', 'fox', 'jumps', 'over', 'the', 'lazy', 'dog']\n",
            "Bigrams: [('This', 'quick'), ('quick', 'brown'), ('brown', 'fox'), ('fox', 'jumps'), ('jumps', 'over'), ('over', 'the'), ('the', 'lazy'), ('lazy', 'dog')]\n",
            "Trigrams: [('This', 'quick', 'brown'), ('quick', 'brown', 'fox'), ('brown', 'fox', 'jumps'), ('fox', 'jumps', 'over'), ('jumps', 'over', 'the'), ('over', 'the', 'lazy'), ('the', 'lazy', 'dog')]\n"
          ]
        }
      ]
    },
    {
      "cell_type": "code",
      "source": [
        "from nltk.stem import PorterStemmer\n",
        "stemmer = PorterStemmer()\n",
        "words = [\"running\", \"runs\", \"ran\"]\n",
        "stemmed_words = [stemmer.stem(word) for word in words]\n",
        "print(stemmed_words)"
      ],
      "metadata": {
        "id": "kvvGrpPuSB6J",
        "outputId": "d7c6dd3e-7b80-4fb8-dc1d-31ce80a508e9",
        "colab": {
          "base_uri": "https://localhost:8080/"
        }
      },
      "execution_count": null,
      "outputs": [
        {
          "output_type": "stream",
          "name": "stdout",
          "text": [
            "['run', 'run', 'ran']\n"
          ]
        }
      ]
    },
    {
      "cell_type": "code",
      "source": [
        "from nltk.corpus import stopwords\n",
        "nltk.download('stopwords')\n",
        "\n",
        "simplestopwords = set(stopwords.words('english'))\n",
        "\n",
        "text = \"This is an example sentence with some stopwords\"\n",
        "tokens = nltk.word_tokenize(text)\n",
        "filtered_tokens = [word for word in tokens if word.lower() not in simplestopwords]\n",
        "print(filtered_tokens)\n",
        "words = nltk.word_tokenize(text)\n",
        "filtered_words = [word for word in words if word.lower() not in simplestopwords]\n",
        "print(filtered_words)"
      ],
      "metadata": {
        "id": "dLmZoKOdSF0C",
        "outputId": "5bb7b7bd-246b-42a0-e0a4-61788ab0f737",
        "colab": {
          "base_uri": "https://localhost:8080/"
        }
      },
      "execution_count": null,
      "outputs": [
        {
          "output_type": "stream",
          "name": "stdout",
          "text": [
            "['example', 'sentence', 'stopwords']\n",
            "['example', 'sentence', 'stopwords']\n"
          ]
        },
        {
          "output_type": "stream",
          "name": "stderr",
          "text": [
            "[nltk_data] Downloading package stopwords to /root/nltk_data...\n",
            "[nltk_data]   Unzipping corpora/stopwords.zip.\n"
          ]
        }
      ]
    },
    {
      "cell_type": "code",
      "source": [
        "from nltk.tokenize import word_tokenize\n",
        "import nltk\n",
        "nltk.download('averaged_perceptron_tagger_eng')\n",
        "\n",
        "text = \"The quick brown fox jumps over the lazy dog\"\n",
        "tokens = word_tokenize(text)\n",
        "pos_tags = nltk.pos_tag(tokens)\n",
        "print(pos_tags)"
      ],
      "metadata": {
        "id": "RLyJnsqHUedH",
        "outputId": "158f0285-9fa8-4d90-b56d-283bd85e8709",
        "colab": {
          "base_uri": "https://localhost:8080/"
        }
      },
      "execution_count": null,
      "outputs": [
        {
          "output_type": "stream",
          "name": "stderr",
          "text": [
            "[nltk_data] Downloading package averaged_perceptron_tagger_eng to\n",
            "[nltk_data]     /root/nltk_data...\n",
            "[nltk_data]   Unzipping taggers/averaged_perceptron_tagger_eng.zip.\n"
          ]
        },
        {
          "output_type": "stream",
          "name": "stdout",
          "text": [
            "[('The', 'DT'), ('quick', 'JJ'), ('brown', 'NN'), ('fox', 'NN'), ('jumps', 'VBZ'), ('over', 'IN'), ('the', 'DT'), ('lazy', 'JJ'), ('dog', 'NN')]\n"
          ]
        }
      ]
    },
    {
      "cell_type": "code",
      "source": [
        "from nltk import pos_tag , ne_chunk\n",
        "import nltk\n",
        "nltk.download('maxent_ne_chunker_tab') # Download the required resource.\n",
        "nltk.download('words')\n",
        "\n",
        "text = \"Apple is expected to launch its new Iphone in August at the Steve Jobs Teater in California\"\n",
        "tokens = nltk.word_tokenize(text)\n",
        "tagged  = pos_tag(tokens)\n",
        "ne = ne_chunk(tagged)\n",
        "for chunk in ne:\n",
        "    if hasattr(chunk,'label'):\n",
        "        print(chunk.label(),'->',' '.join(c[0] for c in chunk))"
      ],
      "metadata": {
        "id": "uPq9cd_oV8b-",
        "outputId": "67d7c1f4-4091-4fe8-b5bd-a1e2b4784c8b",
        "colab": {
          "base_uri": "https://localhost:8080/"
        }
      },
      "execution_count": null,
      "outputs": [
        {
          "output_type": "stream",
          "name": "stderr",
          "text": [
            "[nltk_data] Downloading package maxent_ne_chunker_tab to\n",
            "[nltk_data]     /root/nltk_data...\n",
            "[nltk_data]   Unzipping chunkers/maxent_ne_chunker_tab.zip.\n",
            "[nltk_data] Downloading package words to /root/nltk_data...\n",
            "[nltk_data]   Unzipping corpora/words.zip.\n"
          ]
        },
        {
          "output_type": "stream",
          "name": "stdout",
          "text": [
            "GPE -> Apple\n",
            "PERSON -> Steve Jobs Teater\n",
            "GPE -> California\n"
          ]
        }
      ]
    },
    {
      "cell_type": "code",
      "source": [
        "from nltk.sentiment import SentimentIntensityAnalyzer\n",
        "nltk.download('vader_lexicon')\n",
        "sid=SentimentIntensityAnalyzer()\n",
        "text = \"I am very happy today\"\n",
        "scores = sid.polarity_scores(text)\n",
        "print(scores)"
      ],
      "metadata": {
        "id": "ZkBJ6PvcZT_b",
        "outputId": "5e5b89ff-6b7e-487a-f412-88ef5d35a84d",
        "colab": {
          "base_uri": "https://localhost:8080/"
        }
      },
      "execution_count": null,
      "outputs": [
        {
          "output_type": "stream",
          "name": "stdout",
          "text": [
            "{'neg': 0.0, 'neu': 0.429, 'pos': 0.571, 'compound': 0.6115}\n"
          ]
        },
        {
          "output_type": "stream",
          "name": "stderr",
          "text": [
            "[nltk_data] Downloading package vader_lexicon to /root/nltk_data...\n"
          ]
        }
      ]
    },
    {
      "cell_type": "code",
      "source": [],
      "metadata": {
        "id": "tCN8ZvbPZ3C7"
      },
      "execution_count": null,
      "outputs": []
    }
  ]
}